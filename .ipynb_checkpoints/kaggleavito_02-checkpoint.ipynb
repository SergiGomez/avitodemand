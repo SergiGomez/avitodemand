{
 "cells": [
  {
   "cell_type": "markdown",
   "metadata": {},
   "source": [
    "# Retrieving the Data"
   ]
  },
  {
   "cell_type": "markdown",
   "metadata": {},
   "source": [
    "## Load Libraries"
   ]
  },
  {
   "cell_type": "code",
   "execution_count": 2,
   "metadata": {},
   "outputs": [
    {
     "data": {
      "text/html": [
       "<script>requirejs.config({paths: { 'plotly': ['https://cdn.plot.ly/plotly-latest.min']},});if(!window.Plotly) {{require(['plotly'],function(plotly) {window.Plotly=plotly;});}}</script>"
      ],
      "text/vnd.plotly.v1+html": [
       "<script>requirejs.config({paths: { 'plotly': ['https://cdn.plot.ly/plotly-latest.min']},});if(!window.Plotly) {{require(['plotly'],function(plotly) {window.Plotly=plotly;});}}</script>"
      ]
     },
     "metadata": {},
     "output_type": "display_data"
    },
    {
     "data": {
      "text/html": [
       "<script>requirejs.config({paths: { 'plotly': ['https://cdn.plot.ly/plotly-latest.min']},});if(!window.Plotly) {{require(['plotly'],function(plotly) {window.Plotly=plotly;});}}</script>"
      ],
      "text/vnd.plotly.v1+html": [
       "<script>requirejs.config({paths: { 'plotly': ['https://cdn.plot.ly/plotly-latest.min']},});if(!window.Plotly) {{require(['plotly'],function(plotly) {window.Plotly=plotly;});}}</script>"
      ]
     },
     "metadata": {},
     "output_type": "display_data"
    }
   ],
   "source": [
    "import pandas as pd\n",
    "import numpy as np\n",
    "import os\n",
    "import matplotlib\n",
    "import matplotlib.pyplot as plt # for plotting\n",
    "import seaborn as sns # for making plots with seaborn\n",
    "color = sns.color_palette()\n",
    "import plotly.offline as py\n",
    "import plotly.offline as py\n",
    "py.init_notebook_mode(connected=True)\n",
    "from plotly.offline import init_notebook_mode, iplot\n",
    "init_notebook_mode(connected=True)\n",
    "import plotly.graph_objs as go\n",
    "import plotly.offline as offline\n",
    "import plotly.tools as tls\n",
    "import sklearn as sk\n",
    "from sklearn.model_selection import train_test_split\n",
    "from sklearn import linear_model\n",
    "from sklearn import preprocessing, model_selection, metrics\n",
    "import statsmodels.api as sm\n",
    "import time\n",
    "from sklearn.ensemble import RandomForestRegressor"
   ]
  },
  {
   "cell_type": "code",
   "execution_count": 3,
   "metadata": {},
   "outputs": [
    {
     "name": "stdout",
     "output_type": "stream",
     "text": [
      "Current Working Directory:  /Users/sergigomezpalleja/code_sergi/KaggleAvito/avitodemand\n"
     ]
    }
   ],
   "source": [
    "print(\"Current Working Directory: \", os.getcwd())"
   ]
  },
  {
   "cell_type": "markdown",
   "metadata": {},
   "source": [
    "## Read the Data"
   ]
  },
  {
   "cell_type": "code",
   "execution_count": 4,
   "metadata": {},
   "outputs": [],
   "source": [
    "train = pd.read_csv(\"train.csv\", parse_dates=['activation_date'])\n",
    "test = pd.read_csv(\"test.csv\", parse_dates = ['activation_date'])"
   ]
  },
  {
   "cell_type": "code",
   "execution_count": 28,
   "metadata": {},
   "outputs": [
    {
     "name": "stdout",
     "output_type": "stream",
     "text": [
      "size of train data : (1503424, 18)\n",
      "size of test data (508438, 17)\n"
     ]
    }
   ],
   "source": [
    "print(\"size of train data :\", train.shape)\n",
    "print(\"size of test data\", test.shape)\n",
    "#print(\"size of periods_train data\", periods_train.shape)\n",
    "#print(\"size of periods_test data\", periods_test.shape)"
   ]
  },
  {
   "cell_type": "markdown",
   "metadata": {},
   "source": [
    "# Glimpse of Data"
   ]
  },
  {
   "cell_type": "markdown",
   "metadata": {},
   "source": [
    "## Overview of Tables"
   ]
  },
  {
   "cell_type": "code",
   "execution_count": 10,
   "metadata": {},
   "outputs": [
    {
     "data": {
      "text/html": [
       "<div>\n",
       "<style scoped>\n",
       "    .dataframe tbody tr th:only-of-type {\n",
       "        vertical-align: middle;\n",
       "    }\n",
       "\n",
       "    .dataframe tbody tr th {\n",
       "        vertical-align: top;\n",
       "    }\n",
       "\n",
       "    .dataframe thead th {\n",
       "        text-align: right;\n",
       "    }\n",
       "</style>\n",
       "<table border=\"1\" class=\"dataframe\">\n",
       "  <thead>\n",
       "    <tr style=\"text-align: right;\">\n",
       "      <th></th>\n",
       "      <th>item_id</th>\n",
       "      <th>user_id</th>\n",
       "      <th>region</th>\n",
       "      <th>city</th>\n",
       "      <th>parent_category_name</th>\n",
       "      <th>category_name</th>\n",
       "      <th>param_1</th>\n",
       "      <th>param_2</th>\n",
       "      <th>param_3</th>\n",
       "      <th>title</th>\n",
       "      <th>description</th>\n",
       "      <th>price</th>\n",
       "      <th>item_seq_number</th>\n",
       "      <th>activation_date</th>\n",
       "      <th>user_type</th>\n",
       "      <th>image</th>\n",
       "      <th>image_top_1</th>\n",
       "      <th>deal_probability</th>\n",
       "      <th>set</th>\n",
       "    </tr>\n",
       "  </thead>\n",
       "  <tbody>\n",
       "    <tr>\n",
       "      <th>0</th>\n",
       "      <td>b912c3c6a6ad</td>\n",
       "      <td>e00f8ff2eaf9</td>\n",
       "      <td>Свердловская область</td>\n",
       "      <td>Екатеринбург</td>\n",
       "      <td>Личные вещи</td>\n",
       "      <td>Товары для детей и игрушки</td>\n",
       "      <td>Постельные принадлежности</td>\n",
       "      <td>NaN</td>\n",
       "      <td>NaN</td>\n",
       "      <td>Кокоби(кокон для сна)</td>\n",
       "      <td>Кокон для сна малыша,пользовались меньше месяц...</td>\n",
       "      <td>400.0</td>\n",
       "      <td>2</td>\n",
       "      <td>2017-03-28</td>\n",
       "      <td>Private</td>\n",
       "      <td>d10c7e016e03247a3bf2d13348fe959fe6f436c1caf64c...</td>\n",
       "      <td>1008.0</td>\n",
       "      <td>0.12789</td>\n",
       "      <td>train</td>\n",
       "    </tr>\n",
       "    <tr>\n",
       "      <th>1</th>\n",
       "      <td>2dac0150717d</td>\n",
       "      <td>39aeb48f0017</td>\n",
       "      <td>Самарская область</td>\n",
       "      <td>Самара</td>\n",
       "      <td>Для дома и дачи</td>\n",
       "      <td>Мебель и интерьер</td>\n",
       "      <td>Другое</td>\n",
       "      <td>NaN</td>\n",
       "      <td>NaN</td>\n",
       "      <td>Стойка для Одежды</td>\n",
       "      <td>Стойка для одежды, под вешалки. С бутика.</td>\n",
       "      <td>3000.0</td>\n",
       "      <td>19</td>\n",
       "      <td>2017-03-26</td>\n",
       "      <td>Private</td>\n",
       "      <td>79c9392cc51a9c81c6eb91eceb8e552171db39d7142700...</td>\n",
       "      <td>692.0</td>\n",
       "      <td>0.00000</td>\n",
       "      <td>train</td>\n",
       "    </tr>\n",
       "    <tr>\n",
       "      <th>2</th>\n",
       "      <td>ba83aefab5dc</td>\n",
       "      <td>91e2f88dd6e3</td>\n",
       "      <td>Ростовская область</td>\n",
       "      <td>Ростов-на-Дону</td>\n",
       "      <td>Бытовая электроника</td>\n",
       "      <td>Аудио и видео</td>\n",
       "      <td>Видео, DVD и Blu-ray плееры</td>\n",
       "      <td>NaN</td>\n",
       "      <td>NaN</td>\n",
       "      <td>Philips bluray</td>\n",
       "      <td>В хорошем состоянии, домашний кинотеатр с blu ...</td>\n",
       "      <td>4000.0</td>\n",
       "      <td>9</td>\n",
       "      <td>2017-03-20</td>\n",
       "      <td>Private</td>\n",
       "      <td>b7f250ee3f39e1fedd77c141f273703f4a9be59db4b48a...</td>\n",
       "      <td>3032.0</td>\n",
       "      <td>0.43177</td>\n",
       "      <td>train</td>\n",
       "    </tr>\n",
       "    <tr>\n",
       "      <th>3</th>\n",
       "      <td>02996f1dd2ea</td>\n",
       "      <td>bf5cccea572d</td>\n",
       "      <td>Татарстан</td>\n",
       "      <td>Набережные Челны</td>\n",
       "      <td>Личные вещи</td>\n",
       "      <td>Товары для детей и игрушки</td>\n",
       "      <td>Автомобильные кресла</td>\n",
       "      <td>NaN</td>\n",
       "      <td>NaN</td>\n",
       "      <td>Автокресло</td>\n",
       "      <td>Продам кресло от0-25кг</td>\n",
       "      <td>2200.0</td>\n",
       "      <td>286</td>\n",
       "      <td>2017-03-25</td>\n",
       "      <td>Company</td>\n",
       "      <td>e6ef97e0725637ea84e3d203e82dadb43ed3cc0a1c8413...</td>\n",
       "      <td>796.0</td>\n",
       "      <td>0.80323</td>\n",
       "      <td>train</td>\n",
       "    </tr>\n",
       "    <tr>\n",
       "      <th>4</th>\n",
       "      <td>7c90be56d2ab</td>\n",
       "      <td>ef50846afc0b</td>\n",
       "      <td>Волгоградская область</td>\n",
       "      <td>Волгоград</td>\n",
       "      <td>Транспорт</td>\n",
       "      <td>Автомобили</td>\n",
       "      <td>С пробегом</td>\n",
       "      <td>ВАЗ (LADA)</td>\n",
       "      <td>2110</td>\n",
       "      <td>ВАЗ 2110, 2003</td>\n",
       "      <td>Все вопросы по телефону.</td>\n",
       "      <td>40000.0</td>\n",
       "      <td>3</td>\n",
       "      <td>2017-03-16</td>\n",
       "      <td>Private</td>\n",
       "      <td>54a687a3a0fc1d68aed99bdaaf551c5c70b761b16fd0a2...</td>\n",
       "      <td>2264.0</td>\n",
       "      <td>0.20797</td>\n",
       "      <td>train</td>\n",
       "    </tr>\n",
       "  </tbody>\n",
       "</table>\n",
       "</div>"
      ],
      "text/plain": [
       "        item_id       user_id                 region              city  \\\n",
       "0  b912c3c6a6ad  e00f8ff2eaf9   Свердловская область      Екатеринбург   \n",
       "1  2dac0150717d  39aeb48f0017      Самарская область            Самара   \n",
       "2  ba83aefab5dc  91e2f88dd6e3     Ростовская область    Ростов-на-Дону   \n",
       "3  02996f1dd2ea  bf5cccea572d              Татарстан  Набережные Челны   \n",
       "4  7c90be56d2ab  ef50846afc0b  Волгоградская область         Волгоград   \n",
       "\n",
       "  parent_category_name               category_name  \\\n",
       "0          Личные вещи  Товары для детей и игрушки   \n",
       "1      Для дома и дачи           Мебель и интерьер   \n",
       "2  Бытовая электроника               Аудио и видео   \n",
       "3          Личные вещи  Товары для детей и игрушки   \n",
       "4            Транспорт                  Автомобили   \n",
       "\n",
       "                       param_1     param_2 param_3                  title  \\\n",
       "0    Постельные принадлежности         NaN     NaN  Кокоби(кокон для сна)   \n",
       "1                       Другое         NaN     NaN      Стойка для Одежды   \n",
       "2  Видео, DVD и Blu-ray плееры         NaN     NaN         Philips bluray   \n",
       "3         Автомобильные кресла         NaN     NaN             Автокресло   \n",
       "4                   С пробегом  ВАЗ (LADA)    2110         ВАЗ 2110, 2003   \n",
       "\n",
       "                                         description    price  \\\n",
       "0  Кокон для сна малыша,пользовались меньше месяц...    400.0   \n",
       "1          Стойка для одежды, под вешалки. С бутика.   3000.0   \n",
       "2  В хорошем состоянии, домашний кинотеатр с blu ...   4000.0   \n",
       "3                             Продам кресло от0-25кг   2200.0   \n",
       "4                           Все вопросы по телефону.  40000.0   \n",
       "\n",
       "   item_seq_number activation_date user_type  \\\n",
       "0                2      2017-03-28   Private   \n",
       "1               19      2017-03-26   Private   \n",
       "2                9      2017-03-20   Private   \n",
       "3              286      2017-03-25   Company   \n",
       "4                3      2017-03-16   Private   \n",
       "\n",
       "                                               image  image_top_1  \\\n",
       "0  d10c7e016e03247a3bf2d13348fe959fe6f436c1caf64c...       1008.0   \n",
       "1  79c9392cc51a9c81c6eb91eceb8e552171db39d7142700...        692.0   \n",
       "2  b7f250ee3f39e1fedd77c141f273703f4a9be59db4b48a...       3032.0   \n",
       "3  e6ef97e0725637ea84e3d203e82dadb43ed3cc0a1c8413...        796.0   \n",
       "4  54a687a3a0fc1d68aed99bdaaf551c5c70b761b16fd0a2...       2264.0   \n",
       "\n",
       "   deal_probability    set  \n",
       "0           0.12789  train  \n",
       "1           0.00000  train  \n",
       "2           0.43177  train  \n",
       "3           0.80323  train  \n",
       "4           0.20797  train  "
      ]
     },
     "execution_count": 10,
     "metadata": {},
     "output_type": "execute_result"
    }
   ],
   "source": [
    "train.head()"
   ]
  },
  {
   "cell_type": "markdown",
   "metadata": {},
   "source": [
    "## Statistical overview of the Data"
   ]
  },
  {
   "cell_type": "code",
   "execution_count": 6,
   "metadata": {},
   "outputs": [
    {
     "name": "stdout",
     "output_type": "stream",
     "text": [
      "<class 'pandas.core.frame.DataFrame'>\n",
      "RangeIndex: 1503424 entries, 0 to 1503423\n",
      "Data columns (total 18 columns):\n",
      "item_id                 1503424 non-null object\n",
      "user_id                 1503424 non-null object\n",
      "region                  1503424 non-null object\n",
      "city                    1503424 non-null object\n",
      "parent_category_name    1503424 non-null object\n",
      "category_name           1503424 non-null object\n",
      "param_1                 1441848 non-null object\n",
      "param_2                 848882 non-null object\n",
      "param_3                 640859 non-null object\n",
      "title                   1503424 non-null object\n",
      "description             1387148 non-null object\n",
      "price                   1418062 non-null float64\n",
      "item_seq_number         1503424 non-null int64\n",
      "activation_date         1503424 non-null datetime64[ns]\n",
      "user_type               1503424 non-null object\n",
      "image                   1390836 non-null object\n",
      "image_top_1             1390836 non-null float64\n",
      "deal_probability        1503424 non-null float64\n",
      "dtypes: datetime64[ns](1), float64(3), int64(1), object(13)\n",
      "memory usage: 206.5+ MB\n"
     ]
    }
   ],
   "source": [
    "train.info()"
   ]
  },
  {
   "cell_type": "code",
   "execution_count": 7,
   "metadata": {},
   "outputs": [
    {
     "data": {
      "text/html": [
       "<div>\n",
       "<style scoped>\n",
       "    .dataframe tbody tr th:only-of-type {\n",
       "        vertical-align: middle;\n",
       "    }\n",
       "\n",
       "    .dataframe tbody tr th {\n",
       "        vertical-align: top;\n",
       "    }\n",
       "\n",
       "    .dataframe thead th {\n",
       "        text-align: right;\n",
       "    }\n",
       "</style>\n",
       "<table border=\"1\" class=\"dataframe\">\n",
       "  <thead>\n",
       "    <tr style=\"text-align: right;\">\n",
       "      <th></th>\n",
       "      <th>price</th>\n",
       "      <th>item_seq_number</th>\n",
       "      <th>image_top_1</th>\n",
       "      <th>deal_probability</th>\n",
       "    </tr>\n",
       "  </thead>\n",
       "  <tbody>\n",
       "    <tr>\n",
       "      <th>count</th>\n",
       "      <td>1.418062e+06</td>\n",
       "      <td>1.503424e+06</td>\n",
       "      <td>1.390836e+06</td>\n",
       "      <td>1.503424e+06</td>\n",
       "    </tr>\n",
       "    <tr>\n",
       "      <th>mean</th>\n",
       "      <td>3.167081e+05</td>\n",
       "      <td>7.436740e+02</td>\n",
       "      <td>1.241932e+03</td>\n",
       "      <td>1.391306e-01</td>\n",
       "    </tr>\n",
       "    <tr>\n",
       "      <th>std</th>\n",
       "      <td>6.689154e+07</td>\n",
       "      <td>5.572522e+03</td>\n",
       "      <td>9.704641e+02</td>\n",
       "      <td>2.600785e-01</td>\n",
       "    </tr>\n",
       "    <tr>\n",
       "      <th>min</th>\n",
       "      <td>0.000000e+00</td>\n",
       "      <td>1.000000e+00</td>\n",
       "      <td>0.000000e+00</td>\n",
       "      <td>0.000000e+00</td>\n",
       "    </tr>\n",
       "    <tr>\n",
       "      <th>25%</th>\n",
       "      <td>5.000000e+02</td>\n",
       "      <td>9.000000e+00</td>\n",
       "      <td>4.250000e+02</td>\n",
       "      <td>0.000000e+00</td>\n",
       "    </tr>\n",
       "    <tr>\n",
       "      <th>50%</th>\n",
       "      <td>1.300000e+03</td>\n",
       "      <td>2.900000e+01</td>\n",
       "      <td>1.057000e+03</td>\n",
       "      <td>0.000000e+00</td>\n",
       "    </tr>\n",
       "    <tr>\n",
       "      <th>75%</th>\n",
       "      <td>7.000000e+03</td>\n",
       "      <td>8.800000e+01</td>\n",
       "      <td>2.217000e+03</td>\n",
       "      <td>1.508700e-01</td>\n",
       "    </tr>\n",
       "    <tr>\n",
       "      <th>max</th>\n",
       "      <td>7.950101e+10</td>\n",
       "      <td>2.044290e+05</td>\n",
       "      <td>3.066000e+03</td>\n",
       "      <td>1.000000e+00</td>\n",
       "    </tr>\n",
       "  </tbody>\n",
       "</table>\n",
       "</div>"
      ],
      "text/plain": [
       "              price  item_seq_number   image_top_1  deal_probability\n",
       "count  1.418062e+06     1.503424e+06  1.390836e+06      1.503424e+06\n",
       "mean   3.167081e+05     7.436740e+02  1.241932e+03      1.391306e-01\n",
       "std    6.689154e+07     5.572522e+03  9.704641e+02      2.600785e-01\n",
       "min    0.000000e+00     1.000000e+00  0.000000e+00      0.000000e+00\n",
       "25%    5.000000e+02     9.000000e+00  4.250000e+02      0.000000e+00\n",
       "50%    1.300000e+03     2.900000e+01  1.057000e+03      0.000000e+00\n",
       "75%    7.000000e+03     8.800000e+01  2.217000e+03      1.508700e-01\n",
       "max    7.950101e+10     2.044290e+05  3.066000e+03      1.000000e+00"
      ]
     },
     "execution_count": 7,
     "metadata": {},
     "output_type": "execute_result"
    }
   ],
   "source": [
    "train.describe()"
   ]
  },
  {
   "cell_type": "code",
   "execution_count": 8,
   "metadata": {},
   "outputs": [
    {
     "data": {
      "text/html": [
       "<div>\n",
       "<style scoped>\n",
       "    .dataframe tbody tr th:only-of-type {\n",
       "        vertical-align: middle;\n",
       "    }\n",
       "\n",
       "    .dataframe tbody tr th {\n",
       "        vertical-align: top;\n",
       "    }\n",
       "\n",
       "    .dataframe thead th {\n",
       "        text-align: right;\n",
       "    }\n",
       "</style>\n",
       "<table border=\"1\" class=\"dataframe\">\n",
       "  <thead>\n",
       "    <tr style=\"text-align: right;\">\n",
       "      <th></th>\n",
       "      <th>item_id</th>\n",
       "      <th>user_id</th>\n",
       "      <th>region</th>\n",
       "      <th>city</th>\n",
       "      <th>parent_category_name</th>\n",
       "      <th>category_name</th>\n",
       "      <th>param_1</th>\n",
       "      <th>param_2</th>\n",
       "      <th>param_3</th>\n",
       "      <th>title</th>\n",
       "      <th>description</th>\n",
       "      <th>user_type</th>\n",
       "      <th>image</th>\n",
       "    </tr>\n",
       "  </thead>\n",
       "  <tbody>\n",
       "    <tr>\n",
       "      <th>count</th>\n",
       "      <td>1503424</td>\n",
       "      <td>1503424</td>\n",
       "      <td>1503424</td>\n",
       "      <td>1503424</td>\n",
       "      <td>1503424</td>\n",
       "      <td>1503424</td>\n",
       "      <td>1441848</td>\n",
       "      <td>848882</td>\n",
       "      <td>640859</td>\n",
       "      <td>1503424</td>\n",
       "      <td>1387148</td>\n",
       "      <td>1503424</td>\n",
       "      <td>1390836</td>\n",
       "    </tr>\n",
       "    <tr>\n",
       "      <th>unique</th>\n",
       "      <td>1503424</td>\n",
       "      <td>771769</td>\n",
       "      <td>28</td>\n",
       "      <td>1733</td>\n",
       "      <td>9</td>\n",
       "      <td>47</td>\n",
       "      <td>371</td>\n",
       "      <td>271</td>\n",
       "      <td>1219</td>\n",
       "      <td>788377</td>\n",
       "      <td>1317102</td>\n",
       "      <td>3</td>\n",
       "      <td>1390836</td>\n",
       "    </tr>\n",
       "    <tr>\n",
       "      <th>top</th>\n",
       "      <td>47f183ff075c</td>\n",
       "      <td>45ba3f23bf25</td>\n",
       "      <td>Краснодарский край</td>\n",
       "      <td>Краснодар</td>\n",
       "      <td>Личные вещи</td>\n",
       "      <td>Одежда, обувь, аксессуары</td>\n",
       "      <td>Женская одежда</td>\n",
       "      <td>Обувь</td>\n",
       "      <td>Вторичка</td>\n",
       "      <td>Платье</td>\n",
       "      <td>В хорошем состоянии</td>\n",
       "      <td>Private</td>\n",
       "      <td>43d3bc60613c55b174b451c1f284407bb6fa4f663495a3...</td>\n",
       "    </tr>\n",
       "    <tr>\n",
       "      <th>freq</th>\n",
       "      <td>1</td>\n",
       "      <td>1080</td>\n",
       "      <td>141416</td>\n",
       "      <td>63638</td>\n",
       "      <td>697623</td>\n",
       "      <td>282753</td>\n",
       "      <td>226289</td>\n",
       "      <td>150450</td>\n",
       "      <td>50615</td>\n",
       "      <td>15550</td>\n",
       "      <td>2249</td>\n",
       "      <td>1075706</td>\n",
       "      <td>1</td>\n",
       "    </tr>\n",
       "  </tbody>\n",
       "</table>\n",
       "</div>"
      ],
      "text/plain": [
       "             item_id       user_id              region       city  \\\n",
       "count        1503424       1503424             1503424    1503424   \n",
       "unique       1503424        771769                  28       1733   \n",
       "top     47f183ff075c  45ba3f23bf25  Краснодарский край  Краснодар   \n",
       "freq               1          1080              141416      63638   \n",
       "\n",
       "       parent_category_name              category_name         param_1  \\\n",
       "count               1503424                    1503424         1441848   \n",
       "unique                    9                         47             371   \n",
       "top             Личные вещи  Одежда, обувь, аксессуары  Женская одежда   \n",
       "freq                 697623                     282753          226289   \n",
       "\n",
       "       param_2   param_3    title          description user_type  \\\n",
       "count   848882    640859  1503424              1387148   1503424   \n",
       "unique     271      1219   788377              1317102         3   \n",
       "top      Обувь  Вторичка   Платье  В хорошем состоянии   Private   \n",
       "freq    150450     50615    15550                 2249   1075706   \n",
       "\n",
       "                                                    image  \n",
       "count                                             1390836  \n",
       "unique                                            1390836  \n",
       "top     43d3bc60613c55b174b451c1f284407bb6fa4f663495a3...  \n",
       "freq                                                    1  "
      ]
     },
     "execution_count": 8,
     "metadata": {},
     "output_type": "execute_result"
    }
   ],
   "source": [
    "train.describe(include = [\"O\"])"
   ]
  },
  {
   "cell_type": "code",
   "execution_count": 22,
   "metadata": {},
   "outputs": [
    {
     "name": "stdout",
     "output_type": "stream",
     "text": [
      "Max value Activation Date Train Set:  2017-04-07 00:00:00\n",
      "Min value Activation Date Test Set:  2017-04-12 00:00:00\n"
     ]
    }
   ],
   "source": [
    "#Max value of the Activation Date in the Train Set\n",
    "print(\"Max value Activation Date Train Set: \", train.activation_date.max())\n",
    "#Min value of the Activation Date in the Test Set\n",
    "print(\"Min value Activation Date Test Set: \", test.activation_date.min())\n",
    "# Important! There is no overlap in the Train and Test set so we are predicting future dates!"
   ]
  },
  {
   "cell_type": "code",
   "execution_count": 11,
   "metadata": {},
   "outputs": [
    {
     "data": {
      "text/plain": [
       "array(['2017-03-28T00:00:00.000000000', '2017-03-26T00:00:00.000000000',\n",
       "       '2017-03-20T00:00:00.000000000', '2017-03-25T00:00:00.000000000',\n",
       "       '2017-03-16T00:00:00.000000000', '2017-03-23T00:00:00.000000000',\n",
       "       '2017-03-17T00:00:00.000000000', '2017-03-22T00:00:00.000000000',\n",
       "       '2017-03-19T00:00:00.000000000', '2017-03-21T00:00:00.000000000',\n",
       "       '2017-03-27T00:00:00.000000000', '2017-03-18T00:00:00.000000000',\n",
       "       '2017-03-24T00:00:00.000000000', '2017-03-15T00:00:00.000000000',\n",
       "       '2017-03-29T00:00:00.000000000', '2017-04-02T00:00:00.000000000',\n",
       "       '2017-04-07T00:00:00.000000000', '2017-04-01T00:00:00.000000000',\n",
       "       '2017-03-31T00:00:00.000000000', '2017-03-30T00:00:00.000000000',\n",
       "       '2017-04-03T00:00:00.000000000'], dtype='datetime64[ns]')"
      ]
     },
     "execution_count": 11,
     "metadata": {},
     "output_type": "execute_result"
    }
   ],
   "source": [
    "df.loc[(df['set'] == 'train') | (df['set'] =='val')]['activation_date'].unique()"
   ]
  },
  {
   "cell_type": "code",
   "execution_count": 12,
   "metadata": {},
   "outputs": [
    {
     "data": {
      "text/plain": [
       "array(['2017-04-18T00:00:00.000000000', '2017-04-16T00:00:00.000000000',\n",
       "       '2017-04-17T00:00:00.000000000', '2017-04-15T00:00:00.000000000',\n",
       "       '2017-04-12T00:00:00.000000000', '2017-04-13T00:00:00.000000000',\n",
       "       '2017-04-14T00:00:00.000000000', '2017-04-19T00:00:00.000000000',\n",
       "       '2017-04-20T00:00:00.000000000'], dtype='datetime64[ns]')"
      ]
     },
     "execution_count": 12,
     "metadata": {},
     "output_type": "execute_result"
    }
   ],
   "source": [
    "df.loc[(df['set'] == 'test')]['activation_date'].unique()"
   ]
  },
  {
   "cell_type": "markdown",
   "metadata": {},
   "source": [
    "# Data Exploration"
   ]
  },
  {
   "cell_type": "markdown",
   "metadata": {},
   "source": [
    "## Check for Missing Data"
   ]
  },
  {
   "cell_type": "code",
   "execution_count": 23,
   "metadata": {},
   "outputs": [
    {
     "name": "stdout",
     "output_type": "stream",
     "text": [
      "Missings Training Data\n",
      "                       Total    Percent\n",
      "param_3               862565  57.373369\n",
      "param_2               654542  43.536753\n",
      "description           116276   7.734079\n",
      "image                 112588   7.488772\n",
      "image_top_1           112588   7.488772\n",
      "price                  85362   5.677839\n",
      "param_1                61576   4.095718\n",
      "category_name              0   0.000000\n",
      "user_id                    0   0.000000\n",
      "region                     0   0.000000\n",
      "city                       0   0.000000\n",
      "parent_category_name       0   0.000000\n",
      "deal_probability           0   0.000000\n",
      "title                      0   0.000000\n",
      "item_seq_number            0   0.000000\n",
      "activation_date            0   0.000000\n",
      "user_type                  0   0.000000\n",
      "item_id                    0   0.000000\n",
      "Missings Test Data\n",
      "                       Total    Percent\n",
      "param_3               306331  60.249431\n",
      "param_2               233229  45.871670\n",
      "image                  42609   8.380373\n",
      "image_top_1            42609   8.380373\n",
      "price                  30585   6.015483\n",
      "param_1                22910   4.505957\n",
      "item_seq_number            0   0.000000\n",
      "description                0   0.000000\n",
      "title                      0   0.000000\n",
      "activation_date            0   0.000000\n",
      "user_type                  0   0.000000\n",
      "category_name              0   0.000000\n",
      "parent_category_name       0   0.000000\n",
      "city                       0   0.000000\n",
      "region                     0   0.000000\n",
      "user_id                    0   0.000000\n",
      "item_id                    0   0.000000\n"
     ]
    }
   ],
   "source": [
    "# Missings Training Data\n",
    "missings = train.isnull().sum().sort_values(ascending = False)\n",
    "percentage = (train.isnull().sum() / train.isnull().count()*100).sort_values(ascending = False)\n",
    "missing_training_data = pd.concat([missings,percentage], axis = 1, keys = ['Total', 'Percent'])\n",
    "print(\"Missings Training Data\")\n",
    "print(missing_training_data)\n",
    "\n",
    "#Missings Test Data\n",
    "missings = test.isnull().sum().sort_values(ascending = False)\n",
    "percentage = (test.isnull().sum() / test.isnull().count()*100).sort_values(ascending = False)\n",
    "missing_test_data = pd.concat([missings,percentage], axis = 1, keys = ['Total', 'Percent'])\n",
    "print(\"Missings Test Data\")\n",
    "print(missing_test_data)"
   ]
  },
  {
   "cell_type": "markdown",
   "metadata": {},
   "source": [
    "## Histogram and distribution of deal probability"
   ]
  },
  {
   "cell_type": "code",
   "execution_count": 10,
   "metadata": {},
   "outputs": [
    {
     "data": {
      "image/png": "[encoded data removed]",
      "text/plain": [
       "<matplotlib.figure.Figure at 0x1181339b0>"
      ]
     },
     "metadata": {},
     "output_type": "display_data"
    }
   ],
   "source": [
    "plt.figure(figsize = (12, 8))\n",
    "\n",
    "sns.distplot(train['deal_probability'])\n",
    "plt.xlabel('likelihood that an ad actually sold something', fontsize=12)\n",
    "plt.title(\"Histogram of likelihood that an ad actually sold something\")\n",
    "plt.show() "
   ]
  },
  {
   "cell_type": "markdown",
   "metadata": {},
   "source": [
    "## Histogram and distribution of Ad price"
   ]
  },
  {
   "cell_type": "code",
   "execution_count": 11,
   "metadata": {},
   "outputs": [
    {
     "data": {
      "image/png": "[encoded data removed]",
      "text/plain": [
       "<matplotlib.figure.Figure at 0x11813fa58>"
      ]
     },
     "metadata": {},
     "output_type": "display_data"
    }
   ],
   "source": [
    "plt.figure(figsize = (12, 8))\n",
    "\n",
    "sns.distplot(train['price'].dropna())\n",
    "plt.xlabel('Ad price', fontsize=12)\n",
    "plt.title(\"Histogram of Ad price\")\n",
    "plt.show()"
   ]
  },
  {
   "cell_type": "markdown",
   "metadata": {},
   "source": [
    "### We define the variable Deal_Class that gathers deals of greater or lower than 0.5 probability"
   ]
  },
  {
   "cell_type": "code",
   "execution_count": 12,
   "metadata": {},
   "outputs": [
    {
     "data": {
      "application/vnd.plotly.v1+json": {
       "data": [
        {
         "hoverinfo": "label+percent",
         "labels": [
          "<0.5",
          ">=0.5"
         ],
         "type": "pie",
         "values": [
          87.89343525179856,
          12.10656474820144
         ]
        }
       ],
       "layout": {
        "title": "Distribution of deal class"
       }
      },
      "text/html": [
       "<div id=\"4d07b031-f2dd-44ed-b23a-a5d2e861c713\" style=\"height: 525px; width: 100%;\" class=\"plotly-graph-div\"></div><script type=\"text/javascript\">require([\"plotly\"], function(Plotly) { window.PLOTLYENV=window.PLOTLYENV || {};window.PLOTLYENV.BASE_URL=\"https://plot.ly\";Plotly.newPlot(\"4d07b031-f2dd-44ed-b23a-a5d2e861c713\", [{\"type\": \"pie\", \"labels\": [\"<0.5\", \">=0.5\"], \"values\": [87.89343525179856, 12.10656474820144], \"hoverinfo\": \"label+percent\"}], {\"title\": \"Distribution of deal class\"}, {\"showLink\": true, \"linkText\": \"Export to plot.ly\"})});</script>"
      ],
      "text/vnd.plotly.v1+html": [
       "<div id=\"4d07b031-f2dd-44ed-b23a-a5d2e861c713\" style=\"height: 525px; width: 100%;\" class=\"plotly-graph-div\"></div><script type=\"text/javascript\">require([\"plotly\"], function(Plotly) { window.PLOTLYENV=window.PLOTLYENV || {};window.PLOTLYENV.BASE_URL=\"https://plot.ly\";Plotly.newPlot(\"4d07b031-f2dd-44ed-b23a-a5d2e861c713\", [{\"type\": \"pie\", \"labels\": [\"<0.5\", \">=0.5\"], \"values\": [87.89343525179856, 12.10656474820144], \"hoverinfo\": \"label+percent\"}], {\"title\": \"Distribution of deal class\"}, {\"showLink\": true, \"linkText\": \"Export to plot.ly\"})});</script>"
      ]
     },
     "metadata": {},
     "output_type": "display_data"
    }
   ],
   "source": [
    "train['deal_class'] = train['deal_probability'].apply(lambda x: \">=0.5\" if x >=0.5 else \"<0.5\")\n",
    "temp = train['deal_class'].value_counts()\n",
    "labels = temp.index\n",
    "sizes = (temp / temp.sum())*100\n",
    "trace = go.Pie(labels=labels, values=sizes, hoverinfo='label+percent')\n",
    "layout = go.Layout(title='Distribution of deal class')\n",
    "data = [trace]\n",
    "fig = go.Figure(data=data, layout=layout)\n",
    "py.iplot(fig)\n",
    "\n",
    "del train['deal_class']"
   ]
  },
  {
   "cell_type": "markdown",
   "metadata": {},
   "source": [
    "## Relationship of the Price and the Deal Probability"
   ]
  },
  {
   "cell_type": "code",
   "execution_count": 14,
   "metadata": {},
   "outputs": [
    {
     "name": "stderr",
     "output_type": "stream",
     "text": [
      "/Users/sergigomezpalleja/anaconda3/envs/kaggle/lib/python3.6/site-packages/ipykernel/__main__.py:2: RuntimeWarning:\n",
      "\n",
      "divide by zero encountered in log\n",
      "\n"
     ]
    },
    {
     "data": {
      "image/png": "[encoded data removed]",
      "text/plain": [
       "<matplotlib.figure.Figure at 0x117946940>"
      ]
     },
     "metadata": {},
     "output_type": "display_data"
    }
   ],
   "source": [
    "plt.figure(figsize=(15,6))\n",
    "plt.scatter(np.log(train.price), train.deal_probability)\n",
    "plt.xlabel('Log(price)')\n",
    "plt.ylabel('deal probability')\n",
    "plt.show()"
   ]
  },
  {
   "cell_type": "markdown",
   "metadata": {},
   "source": [
    "## Map words from Russian to English"
   ]
  },
  {
   "cell_type": "code",
   "execution_count": 29,
   "metadata": {},
   "outputs": [],
   "source": [
    "parent_category_name_map = {\"Личные вещи\" : \"Personal belongings\",\n",
    "                            \"Для дома и дачи\" : \"For the home and garden\",\n",
    "                            \"Бытовая электроника\" : \"Consumer electronics\",\n",
    "                            \"Недвижимость\" : \"Real estate\",\n",
    "                            \"Хобби и отдых\" : \"Hobbies & leisure\",\n",
    "                            \"Транспорт\" : \"Transport\",\n",
    "                            \"Услуги\" : \"Services\",\n",
    "                            \"Животные\" : \"Animals\",\n",
    "                            \"Для бизнеса\" : \"For business\"}\n",
    "\n",
    "region_map = {\"Свердловская область\" : \"Sverdlovsk oblast\",\n",
    "            \"Самарская область\" : \"Samara oblast\",\n",
    "            \"Ростовская область\" : \"Rostov oblast\",\n",
    "            \"Татарстан\" : \"Tatarstan\",\n",
    "            \"Волгоградская область\" : \"Volgograd oblast\",\n",
    "            \"Нижегородская область\" : \"Nizhny Novgorod oblast\",\n",
    "            \"Пермский край\" : \"Perm Krai\",\n",
    "            \"Оренбургская область\" : \"Orenburg oblast\",\n",
    "            \"Ханты-Мансийский АО\" : \"Khanty-Mansi Autonomous Okrug\",\n",
    "            \"Тюменская область\" : \"Tyumen oblast\",\n",
    "            \"Башкортостан\" : \"Bashkortostan\",\n",
    "            \"Краснодарский край\" : \"Krasnodar Krai\",\n",
    "            \"Новосибирская область\" : \"Novosibirsk oblast\",\n",
    "            \"Омская область\" : \"Omsk oblast\",\n",
    "            \"Белгородская область\" : \"Belgorod oblast\",\n",
    "            \"Челябинская область\" : \"Chelyabinsk oblast\",\n",
    "            \"Воронежская область\" : \"Voronezh oblast\",\n",
    "            \"Кемеровская область\" : \"Kemerovo oblast\",\n",
    "            \"Саратовская область\" : \"Saratov oblast\",\n",
    "            \"Владимирская область\" : \"Vladimir oblast\",\n",
    "            \"Калининградская область\" : \"Kaliningrad oblast\",\n",
    "            \"Красноярский край\" : \"Krasnoyarsk Krai\",\n",
    "            \"Ярославская область\" : \"Yaroslavl oblast\",\n",
    "            \"Удмуртия\" : \"Udmurtia\",\n",
    "            \"Алтайский край\" : \"Altai Krai\",\n",
    "            \"Иркутская область\" : \"Irkutsk oblast\",\n",
    "            \"Ставропольский край\" : \"Stavropol Krai\",\n",
    "            \"Тульская область\" : \"Tula oblast\"}\n",
    "\n",
    "category_map = {\"Одежда, обувь, аксессуары\":\"Clothing, shoes, accessories\",\n",
    "                \"Детская одежда и обувь\":\"Children's clothing and shoes\",\n",
    "                \"Товары для детей и игрушки\":\"Children's products and toys\",\n",
    "                \"Квартиры\":\"Apartments\",\n",
    "                \"Телефоны\":\"Phones\",\n",
    "                \"Мебель и интерьер\":\"Furniture and interior\",\n",
    "                \"Предложение услуг\":\"Offer services\",\n",
    "                \"Автомобили\":\"Cars\",\n",
    "                \"Ремонт и строительство\":\"Repair and construction\",\n",
    "                \"Бытовая техника\":\"Appliances\",\n",
    "                \"Товары для компьютера\":\"Products for computer\",\n",
    "                \"Дома, дачи, коттеджи\":\"Houses, villas, cottages\",\n",
    "                \"Красота и здоровье\":\"Health and beauty\",\n",
    "                \"Аудио и видео\":\"Audio and video\",\n",
    "                \"Спорт и отдых\":\"Sports and recreation\",\n",
    "                \"Коллекционирование\":\"Collecting\",\n",
    "                \"Оборудование для бизнеса\":\"Equipment for business\",\n",
    "                \"Земельные участки\":\"Land\",\n",
    "                \"Часы и украшения\":\"Watches and jewelry\",\n",
    "                \"Книги и журналы\":\"Books and magazines\",\n",
    "                \"Собаки\":\"Dogs\",\n",
    "                \"Игры, приставки и программы\":\"Games, consoles and software\",\n",
    "                \"Другие животные\":\"Other animals\",\n",
    "                \"Велосипеды\":\"Bikes\",\n",
    "                \"Ноутбуки\":\"Laptops\",\n",
    "                \"Кошки\":\"Cats\",\n",
    "                \"Грузовики и спецтехника\":\"Trucks and buses\",\n",
    "                \"Посуда и товары для кухни\":\"Tableware and goods for kitchen\",\n",
    "                \"Растения\":\"Plants\",\n",
    "                \"Планшеты и электронные книги\":\"Tablets and e-books\",\n",
    "                \"Товары для животных\":\"Pet products\",\n",
    "                \"Комнаты\":\"Room\",\n",
    "                \"Фототехника\":\"Photo\",\n",
    "                \"Коммерческая недвижимость\":\"Commercial property\",\n",
    "                \"Гаражи и машиноместа\":\"Garages and Parking spaces\",\n",
    "                \"Музыкальные инструменты\":\"Musical instruments\",\n",
    "                \"Оргтехника и расходники\":\"Office equipment and consumables\",\n",
    "                \"Птицы\":\"Birds\",\n",
    "                \"Продукты питания\":\"Food\",\n",
    "                \"Мотоциклы и мототехника\":\"Motorcycles and bikes\",\n",
    "                \"Настольные компьютеры\":\"Desktop computers\",\n",
    "                \"Аквариум\":\"Aquarium\",\n",
    "                \"Охота и рыбалка\":\"Hunting and fishing\",\n",
    "                \"Билеты и путешествия\":\"Tickets and travel\",\n",
    "                \"Водный транспорт\":\"Water transport\",\n",
    "                \"Готовый бизнес\":\"Ready business\",\n",
    "                \"Недвижимость за рубежом\":\"Property abroad\"}\n",
    "\n",
    "params_top35_map = {'Женская одежда':\"Women's clothing\",\n",
    "                    'Для девочек':'For girls','Для мальчиков':'For boys','Продам':'Selling','С пробегом':'With mileage',\n",
    "                    'Аксессуары':'Accessories','Мужская одежда':\"Men's Clothing\",'Другое':'Other','Игрушки':'Toys',\n",
    "                    'Детские коляски':'Baby carriages', 'Сдам':'Rent','Ремонт, строительство':'Repair, construction',\n",
    "                    'Стройматериалы':'Building materials','iPhone':'iPhone','Кровати, диваны и кресла':'Beds, sofas and armchairs',\n",
    "                    'Инструменты':'Instruments','Для кухни':'For kitchen','Комплектующие':'Accessories','Детская мебель':\"Children's furniture\",\n",
    "                    'Шкафы и комоды':'Cabinets and chests of drawers','Приборы и аксессуары':'Devices and accessories','Для дома':'For home',\n",
    "                    'Транспорт, перевозки':'Transport, transportation','Товары для кормления':'Feeding products','Samsung':'Samsung','Сниму':'Hire',\n",
    "                    'Книги':'Books','Телевизоры и проекторы':'Televisions and projectors','Велосипеды и самокаты':'Bicycles and scooters',\n",
    "                    'Предметы интерьера, искусство':'Interior items, art','Другая':'Other','Косметика':'Cosmetics',\n",
    "                    'Постельные принадлежности':'Bed dress','С/х животные' :'Farm animals','Столы и стулья':'Tables and chairs'}\n",
    "\n",
    "\n",
    "train['region_en'] = train['region'].apply(lambda x : region_map[x])\n",
    "train['parent_category_name_en'] = train['parent_category_name'].apply(lambda x : parent_category_name_map[x])\n",
    "train['category_name_en'] = train['category_name'].apply(lambda x : category_map[x])\n",
    "\n",
    "test['region_en'] = test['region'].apply(lambda x : region_map[x])\n",
    "test['parent_category_name_en'] = test['parent_category_name'].apply(lambda x : parent_category_name_map[x])\n",
    "test['category_name_en'] = test['category_name'].apply(lambda x : category_map[x])\n",
    "\n",
    "\n",
    "del train['region']\n",
    "del train['parent_category_name']\n",
    "del train['category_name']\n",
    "del test['region']\n",
    "del test['parent_category_name']\n",
    "del test['category_name']\n"
   ]
  },
  {
   "cell_type": "markdown",
   "metadata": {},
   "source": [
    "## Boxplot Deal Probability by region"
   ]
  },
  {
   "cell_type": "code",
   "execution_count": 16,
   "metadata": {},
   "outputs": [
    {
     "data": {
      "image/png": "[encoded data removed]",
      "text/plain": [
       "<matplotlib.figure.Figure at 0x1a20b93160>"
      ]
     },
     "metadata": {},
     "output_type": "display_data"
    }
   ],
   "source": [
    "plt.figure(figsize=(12,8))\n",
    "sns.boxplot(y=\"region_en\", x=\"deal_probability\", data=train)\n",
    "plt.xlabel('Deal probability', fontsize=12)\n",
    "plt.ylabel('Region', fontsize=12)\n",
    "plt.title(\"Deal probability by region\")\n",
    "plt.xticks(rotation='vertical')\n",
    "plt.show()"
   ]
  },
  {
   "cell_type": "markdown",
   "metadata": {},
   "source": [
    "## Boxplot of the Deal Probability by Parent Category"
   ]
  },
  {
   "cell_type": "code",
   "execution_count": 17,
   "metadata": {},
   "outputs": [
    {
     "data": {
      "image/png": "[encoded data removed]",
      "text/plain": [
       "<matplotlib.figure.Figure at 0x114f18550>"
      ]
     },
     "metadata": {},
     "output_type": "display_data"
    }
   ],
   "source": [
    "plt.figure(figsize=(12,8))\n",
    "sns.boxplot(x=\"parent_category_name_en\", y=\"deal_probability\", data=train)\n",
    "plt.ylabel('Deal probability', fontsize=12)\n",
    "plt.xlabel('Parent Category', fontsize=12)\n",
    "plt.title(\"Deal probability by parent category\", fontsize=14)\n",
    "plt.xticks(rotation='vertical')\n",
    "plt.show()"
   ]
  },
  {
   "cell_type": "markdown",
   "metadata": {},
   "source": [
    "# Data Transformation"
   ]
  },
  {
   "cell_type": "markdown",
   "metadata": {},
   "source": [
    "## Encode Categorical Variables"
   ]
  },
  {
   "cell_type": "code",
   "execution_count": 5,
   "metadata": {},
   "outputs": [],
   "source": [
    "#I keep a copy of the original data\n",
    "train_copy = train.copy()\n",
    "test_copy = test.copy()"
   ]
  },
  {
   "cell_type": "code",
   "execution_count": 6,
   "metadata": {},
   "outputs": [
    {
     "name": "stdout",
     "output_type": "stream",
     "text": [
      "\n",
      "All Data shape: 2011862 Rows, 19 Columns\n"
     ]
    }
   ],
   "source": [
    "# I combine both data sets\n",
    "# But first I split Train - Dev - Test \n",
    "# Watch out: Do Train and Dev have the same distribution? \n",
    "train['set'] = 'train'\n",
    "test['set'] = 'test'\n",
    "test['deal_probability']= 0\n",
    "\n",
    "df = pd.concat([train,test],axis=0)\n",
    "print('\\nAll Data shape: {} Rows, {} Columns'.format(*df.shape))\n",
    "#df.shape[0] == train.shape[0] + test.shape[0]"
   ]
  },
  {
   "cell_type": "code",
   "execution_count": 7,
   "metadata": {},
   "outputs": [
    {
     "name": "stdout",
     "output_type": "stream",
     "text": [
      "Percentage of the Test set:  25.27201169861551\n"
     ]
    }
   ],
   "source": [
    "print(\"Percentage of the Test set: \",100*test.shape[0] / df.shape[0])"
   ]
  },
  {
   "cell_type": "code",
   "execution_count": 31,
   "metadata": {},
   "outputs": [],
   "source": [
    "# All vars that we have\n",
    "cat_vars = [\"region_en\", \"city\", \"parent_category_name_en\", \"category_name_en\", \"user_type\", \"param_1\", \"param_2\", \"param_3\"]\n",
    "for col in cat_vars: \n",
    "    \n",
    "    lbl_train = preprocessing.LabelEncoder()\n",
    "    lbl_train.fit(list(train[col].values.astype('str')))\n",
    "    train[col] = lbl_train.transform(list(train[col].values.astype('str')))\n",
    "    \n",
    "    lbl_test = preprocessing.LabelEncoder()\n",
    "    lbl_test.fit(list(test[col].values.astype('str')))\n",
    "    test[col] = lbl_test.transform(list(test[col].values.astype('str')))\n",
    "    "
   ]
  },
  {
   "cell_type": "code",
   "execution_count": 9,
   "metadata": {},
   "outputs": [
    {
     "data": {
      "text/html": [
       "<div>\n",
       "<style scoped>\n",
       "    .dataframe tbody tr th:only-of-type {\n",
       "        vertical-align: middle;\n",
       "    }\n",
       "\n",
       "    .dataframe tbody tr th {\n",
       "        vertical-align: top;\n",
       "    }\n",
       "\n",
       "    .dataframe thead th {\n",
       "        text-align: right;\n",
       "    }\n",
       "</style>\n",
       "<table border=\"1\" class=\"dataframe\">\n",
       "  <thead>\n",
       "    <tr style=\"text-align: right;\">\n",
       "      <th></th>\n",
       "      <th>item_id</th>\n",
       "      <th>user_id</th>\n",
       "      <th>city</th>\n",
       "      <th>param_1</th>\n",
       "      <th>param_2</th>\n",
       "      <th>param_3</th>\n",
       "      <th>title</th>\n",
       "      <th>description</th>\n",
       "      <th>price</th>\n",
       "      <th>item_seq_number</th>\n",
       "      <th>activation_date</th>\n",
       "      <th>user_type</th>\n",
       "      <th>image</th>\n",
       "      <th>image_top_1</th>\n",
       "      <th>deal_probability</th>\n",
       "      <th>region_en</th>\n",
       "      <th>parent_category_name_en</th>\n",
       "      <th>category_name_en</th>\n",
       "    </tr>\n",
       "  </thead>\n",
       "  <tbody>\n",
       "    <tr>\n",
       "      <th>0</th>\n",
       "      <td>b912c3c6a6ad</td>\n",
       "      <td>e00f8ff2eaf9</td>\n",
       "      <td>460</td>\n",
       "      <td>249</td>\n",
       "      <td>107</td>\n",
       "      <td>1162</td>\n",
       "      <td>Кокоби(кокон для сна)</td>\n",
       "      <td>Кокон для сна малыша,пользовались меньше месяц...</td>\n",
       "      <td>400.0</td>\n",
       "      <td>2</td>\n",
       "      <td>2017-03-28</td>\n",
       "      <td>1</td>\n",
       "      <td>d10c7e016e03247a3bf2d13348fe959fe6f436c1caf64c...</td>\n",
       "      <td>1008.0</td>\n",
       "      <td>0.12789</td>\n",
       "      <td>19</td>\n",
       "      <td>5</td>\n",
       "      <td>10</td>\n",
       "    </tr>\n",
       "    <tr>\n",
       "      <th>1</th>\n",
       "      <td>2dac0150717d</td>\n",
       "      <td>39aeb48f0017</td>\n",
       "      <td>1300</td>\n",
       "      <td>122</td>\n",
       "      <td>107</td>\n",
       "      <td>1162</td>\n",
       "      <td>Стойка для Одежды</td>\n",
       "      <td>Стойка для одежды, под вешалки. С бутика.</td>\n",
       "      <td>3000.0</td>\n",
       "      <td>19</td>\n",
       "      <td>2017-03-26</td>\n",
       "      <td>1</td>\n",
       "      <td>79c9392cc51a9c81c6eb91eceb8e552171db39d7142700...</td>\n",
       "      <td>692.0</td>\n",
       "      <td>0.00000</td>\n",
       "      <td>16</td>\n",
       "      <td>3</td>\n",
       "      <td>18</td>\n",
       "    </tr>\n",
       "    <tr>\n",
       "      <th>2</th>\n",
       "      <td>ba83aefab5dc</td>\n",
       "      <td>91e2f88dd6e3</td>\n",
       "      <td>1276</td>\n",
       "      <td>84</td>\n",
       "      <td>107</td>\n",
       "      <td>1162</td>\n",
       "      <td>Philips bluray</td>\n",
       "      <td>В хорошем состоянии, домашний кинотеатр с blu ...</td>\n",
       "      <td>4000.0</td>\n",
       "      <td>9</td>\n",
       "      <td>2017-03-20</td>\n",
       "      <td>1</td>\n",
       "      <td>b7f250ee3f39e1fedd77c141f273703f4a9be59db4b48a...</td>\n",
       "      <td>3032.0</td>\n",
       "      <td>0.43177</td>\n",
       "      <td>15</td>\n",
       "      <td>1</td>\n",
       "      <td>3</td>\n",
       "    </tr>\n",
       "  </tbody>\n",
       "</table>\n",
       "</div>"
      ],
      "text/plain": [
       "        item_id       user_id  city  param_1  param_2  param_3  \\\n",
       "0  b912c3c6a6ad  e00f8ff2eaf9   460      249      107     1162   \n",
       "1  2dac0150717d  39aeb48f0017  1300      122      107     1162   \n",
       "2  ba83aefab5dc  91e2f88dd6e3  1276       84      107     1162   \n",
       "\n",
       "                   title                                        description  \\\n",
       "0  Кокоби(кокон для сна)  Кокон для сна малыша,пользовались меньше месяц...   \n",
       "1      Стойка для Одежды          Стойка для одежды, под вешалки. С бутика.   \n",
       "2         Philips bluray  В хорошем состоянии, домашний кинотеатр с blu ...   \n",
       "\n",
       "    price  item_seq_number activation_date  user_type  \\\n",
       "0   400.0                2      2017-03-28          1   \n",
       "1  3000.0               19      2017-03-26          1   \n",
       "2  4000.0                9      2017-03-20          1   \n",
       "\n",
       "                                               image  image_top_1  \\\n",
       "0  d10c7e016e03247a3bf2d13348fe959fe6f436c1caf64c...       1008.0   \n",
       "1  79c9392cc51a9c81c6eb91eceb8e552171db39d7142700...        692.0   \n",
       "2  b7f250ee3f39e1fedd77c141f273703f4a9be59db4b48a...       3032.0   \n",
       "\n",
       "   deal_probability  region_en  parent_category_name_en  category_name_en  \n",
       "0           0.12789         19                        5                10  \n",
       "1           0.00000         16                        3                18  \n",
       "2           0.43177         15                        1                 3  "
      ]
     },
     "execution_count": 9,
     "metadata": {},
     "output_type": "execute_result"
    }
   ],
   "source": [
    "# How our dataset looks like after the encoding\n",
    "train.head(n = 3)"
   ]
  },
  {
   "cell_type": "markdown",
   "metadata": {},
   "source": [
    "## Deal with Missing Data"
   ]
  },
  {
   "cell_type": "code",
   "execution_count": 34,
   "metadata": {},
   "outputs": [],
   "source": [
    "#train['price_fill'] = train['price'].values\n",
    "#train['price_fill'].fillna(np.nanmean(train[\"price\"].values), inplace=True)\n",
    "\n",
    "#train['price_log'] = np.log(train['price'])"
   ]
  },
  {
   "cell_type": "markdown",
   "metadata": {},
   "source": [
    "# Feature Engineering"
   ]
  },
  {
   "cell_type": "code",
   "execution_count": 155,
   "metadata": {},
   "outputs": [],
   "source": [
    "# If we want to re-start the feature engineering\n",
    "#train = train_copy.copy()"
   ]
  },
  {
   "cell_type": "markdown",
   "metadata": {},
   "source": [
    "### 1) Date time features"
   ]
  },
  {
   "cell_type": "code",
   "execution_count": 11,
   "metadata": {},
   "outputs": [],
   "source": [
    "df['weekday'] = df['activation_date'].dt.weekday\n",
    "df['month'] = df.activation_date.dt.month\n",
    "df['day'] = df.activation_date.dt.day\n",
    "df['week'] = df.activation_date.dt.week \n",
    "# test['activation_weekday'] = test['activation_date'].dt.weekday\n",
    "\n",
    "del train['activation_date']"
   ]
  },
  {
   "cell_type": "markdown",
   "metadata": {},
   "source": [
    "### 2) Length of the Description"
   ]
  },
  {
   "cell_type": "code",
   "execution_count": 157,
   "metadata": {},
   "outputs": [],
   "source": [
    "# length of description\n",
    "train['description'] = train['description'].fillna(\" \")\n",
    "train['description_len'] = train['description'].apply(lambda x : len(x.split()))"
   ]
  },
  {
   "cell_type": "markdown",
   "metadata": {},
   "source": [
    "### 3) Length of the Title"
   ]
  },
  {
   "cell_type": "code",
   "execution_count": 158,
   "metadata": {},
   "outputs": [],
   "source": [
    "train['title'] = train['title'].fillna(\" \")\n",
    "train['title_len'] = train['title'].apply(lambda x : len(x.split()))"
   ]
  },
  {
   "cell_type": "markdown",
   "metadata": {},
   "source": [
    "### 4) Characters Length for the Text Columns"
   ]
  },
  {
   "cell_type": "code",
   "execution_count": 159,
   "metadata": {},
   "outputs": [],
   "source": [
    "train['description_char'] = train['description'].apply(len)\n",
    "train['title_char'] = train['title'].apply(len)\n",
    "#train['param_char'] = train['param_combined'].apply(len)"
   ]
  },
  {
   "cell_type": "markdown",
   "metadata": {},
   "source": [
    "### 5) Log to the Price"
   ]
  },
  {
   "cell_type": "code",
   "execution_count": 160,
   "metadata": {},
   "outputs": [],
   "source": [
    "# log of price \n",
    "train['price_log'] = np.log(train['price'] + 0.001)\n",
    "train['price_log'].fillna(-99, inplace=True)"
   ]
  },
  {
   "cell_type": "markdown",
   "metadata": {},
   "source": [
    "# Baseline Model"
   ]
  },
  {
   "cell_type": "markdown",
   "metadata": {},
   "source": [
    "### We keep the Target variable in a separate vector"
   ]
  },
  {
   "cell_type": "code",
   "execution_count": 161,
   "metadata": {},
   "outputs": [],
   "source": [
    "train_y = train['deal_probability'].values"
   ]
  },
  {
   "cell_type": "markdown",
   "metadata": {},
   "source": [
    "### We drop those variables that are not needed for this first model"
   ]
  },
  {
   "cell_type": "code",
   "execution_count": 162,
   "metadata": {},
   "outputs": [
    {
     "name": "stdout",
     "output_type": "stream",
     "text": [
      "   city  param_1  param_2  param_3  item_seq_number  user_type  region_en  \\\n",
      "0   460      249      107     1162                2          1         19   \n",
      "1  1300      122      107     1162               19          1         16   \n",
      "2  1276       84      107     1162                9          1         15   \n",
      "\n",
      "   parent_category_name_en  category_name_en  weekday  month  day  week  \\\n",
      "0                        5                10        1      3   28    13   \n",
      "1                        3                18        6      3   26    12   \n",
      "2                        1                 3        0      3   20    12   \n",
      "\n",
      "   description_len  title_len  description_char  title_char  price_log  \n",
      "0                7          3                58          21   5.991467  \n",
      "1                7          3                41          17   8.006368  \n",
      "2               17          2                99          14   8.294050  \n"
     ]
    }
   ],
   "source": [
    "cols_to_drop = [\"item_id\", \"user_id\", \"title\", \"description\", \"image\",\"price\",\n",
    "                \"image_top_1\"]\n",
    "train_X = train.drop(cols_to_drop + [\"deal_probability\"], axis=1) # Important: We have also to remove the target variable !\n",
    "#test_X = test_df.drop(cols_to_drop, axis=1)\n",
    "print(train_X.head(n = 3))"
   ]
  },
  {
   "cell_type": "markdown",
   "metadata": {},
   "source": [
    "### We make sure there are no Missing Values in the Training and Validation Set"
   ]
  },
  {
   "cell_type": "code",
   "execution_count": 163,
   "metadata": {},
   "outputs": [
    {
     "name": "stdout",
     "output_type": "stream",
     "text": [
      "                         Total  Percent\n",
      "price_log                    0      0.0\n",
      "title_char                   0      0.0\n",
      "param_1                      0      0.0\n",
      "param_2                      0      0.0\n",
      "param_3                      0      0.0\n",
      "item_seq_number              0      0.0\n",
      "user_type                    0      0.0\n",
      "region_en                    0      0.0\n",
      "parent_category_name_en      0      0.0\n",
      "category_name_en             0      0.0\n",
      "weekday                      0      0.0\n",
      "month                        0      0.0\n",
      "day                          0      0.0\n",
      "week                         0      0.0\n",
      "description_len              0      0.0\n",
      "title_len                    0      0.0\n",
      "description_char             0      0.0\n",
      "city                         0      0.0\n"
     ]
    }
   ],
   "source": [
    "missings = train_X.isnull().sum().sort_values(ascending = False)\n",
    "percentage = (train_X.isnull().sum() / train_X.isnull().count()*100).sort_values(ascending = False)\n",
    "missing_training_data = pd.concat([missings,percentage], axis = 1, keys = ['Total', 'Percent'])\n",
    "print(missing_training_data)"
   ]
  },
  {
   "cell_type": "markdown",
   "metadata": {},
   "source": [
    "### Splitting Train / Validation Set"
   ]
  },
  {
   "cell_type": "code",
   "execution_count": 164,
   "metadata": {},
   "outputs": [
    {
     "name": "stdout",
     "output_type": "stream",
     "text": [
      "Shape X_train_model:  (1202739, 18)\n",
      "Shape y_train_model:  (1202739,)\n",
      "Shape X_val:  (300685, 18)\n",
      "Shape y_val:  (300685,)\n"
     ]
    }
   ],
   "source": [
    "X_train_model, X_val, y_train_model, y_val = train_test_split(train_X, train_y, test_size=0.20, random_state=34)\n",
    "print(\"Shape X_train_model: \", X_train_model.shape)\n",
    "print(\"Shape y_train_model: \", y_train_model.shape)\n",
    "print(\"Shape X_val: \", X_val.shape)\n",
    "print(\"Shape y_val: \", y_val.shape)"
   ]
  },
  {
   "cell_type": "markdown",
   "metadata": {},
   "source": [
    "### Fitting the model"
   ]
  },
  {
   "cell_type": "code",
   "execution_count": 165,
   "metadata": {},
   "outputs": [
    {
     "data": {
      "text/plain": [
       "LinearRegression(copy_X=True, fit_intercept=True, n_jobs=1, normalize=False)"
      ]
     },
     "execution_count": 165,
     "metadata": {},
     "output_type": "execute_result"
    }
   ],
   "source": [
    "linear_reg = linear_model.LinearRegression()\n",
    "linear_reg.fit(X_train_model, y_train_model)"
   ]
  },
  {
   "cell_type": "markdown",
   "metadata": {},
   "source": [
    "### Making the Prediction "
   ]
  },
  {
   "cell_type": "code",
   "execution_count": 166,
   "metadata": {},
   "outputs": [
    {
     "name": "stdout",
     "output_type": "stream",
     "text": [
      "number of observations with pred < 0:  501\n",
      "number of observations with pred > 1:  0\n",
      "number of observations with pred < 0 after clipping:  0\n",
      "number of observations with pred > 1 after clipping:  0\n"
     ]
    }
   ],
   "source": [
    "pred = linear_reg.predict(X_val)\n",
    "print(\"number of observations with pred < 0: \",len(np.where(pred < 0)[0]))\n",
    "print(\"number of observations with pred > 1: \",len(np.where(pred > 1)[0]))\n",
    "#pred.clip(0.0, 1.0)\n",
    "pred[np.where(pred < 0)] = 0\n",
    "pred[np.where(pred > 1)] = 1\n",
    "print(\"number of observations with pred < 0 after clipping: \",len(np.where(pred < 0)[0]))\n",
    "print(\"number of observations with pred > 1 after clipping: \",len(np.where(pred > 1)[0]))"
   ]
  },
  {
   "cell_type": "markdown",
   "metadata": {},
   "source": [
    "### Evaluate the predictions"
   ]
  },
  {
   "cell_type": "code",
   "execution_count": 167,
   "metadata": {},
   "outputs": [
    {
     "name": "stdout",
     "output_type": "stream",
     "text": [
      "The RMSE is:  0.25520410883152117\n"
     ]
    }
   ],
   "source": [
    "rmse = np.sqrt(sk.metrics.mean_squared_error(y_val, pred))\n",
    "print(\"The RMSE is: \", rmse)"
   ]
  },
  {
   "cell_type": "markdown",
   "metadata": {},
   "source": [
    "### Feature Selection "
   ]
  },
  {
   "cell_type": "code",
   "execution_count": 168,
   "metadata": {},
   "outputs": [
    {
     "name": "stdout",
     "output_type": "stream",
     "text": [
      "    Coefficients                  Feature\n",
      "0      -0.000001                     city\n",
      "1       0.000222                  param_1\n",
      "2       0.000030                  param_2\n",
      "3       0.000083                  param_3\n",
      "4      -0.000002          item_seq_number\n",
      "5       0.002407                user_type\n",
      "6      -0.000140                region_en\n",
      "7       0.004815  parent_category_name_en\n",
      "8       0.000161         category_name_en\n",
      "9       0.011046                  weekday\n",
      "10      0.016819                    month\n",
      "11     -0.010348                      day\n",
      "12      0.071428                     week\n",
      "13     -0.000612          description_len\n",
      "14     -0.003234                title_len\n",
      "15      0.000062         description_char\n",
      "16      0.000216               title_char\n",
      "17     -0.000438                price_log\n"
     ]
    }
   ],
   "source": [
    "coeffs = pd.DataFrame({\"Feature\":X_train_model.columns,\"Coefficients\":np.transpose(linear_reg.coef_)})\n",
    "print(coeffs)"
   ]
  },
  {
   "cell_type": "code",
   "execution_count": 169,
   "metadata": {},
   "outputs": [
    {
     "name": "stdout",
     "output_type": "stream",
     "text": [
      "                            OLS Regression Results                            \n",
      "==============================================================================\n",
      "Dep. Variable:                      y   R-squared:                       0.037\n",
      "Model:                            OLS   Adj. R-squared:                  0.037\n",
      "Method:                 Least Squares   F-statistic:                     2744.\n",
      "Date:                Sun, 06 May 2018   Prob (F-statistic):               0.00\n",
      "Time:                        18:45:29   Log-Likelihood:                -63784.\n",
      "No. Observations:             1202739   AIC:                         1.276e+05\n",
      "Df Residuals:                 1202721   BIC:                         1.278e+05\n",
      "Df Model:                          17                                         \n",
      "Covariance Type:            nonrobust                                         \n",
      "===========================================================================================\n",
      "                              coef    std err          t      P>|t|      [0.025      0.975]\n",
      "-------------------------------------------------------------------------------------------\n",
      "city                    -1.182e-06   4.94e-07     -2.394      0.017   -2.15e-06   -2.14e-07\n",
      "param_1                     0.0002   3.02e-06     73.777      0.000       0.000       0.000\n",
      "param_2                  2.968e-05   4.86e-06      6.101      0.000    2.01e-05    3.92e-05\n",
      "param_3                  8.264e-05   6.24e-07    132.482      0.000    8.14e-05    8.39e-05\n",
      "item_seq_number         -2.071e-06   4.34e-08    -47.717      0.000   -2.16e-06   -1.99e-06\n",
      "user_type                   0.0024      0.000      5.089      0.000       0.001       0.003\n",
      "region_en                  -0.0001   3.12e-05     -4.496      0.000      -0.000    -7.9e-05\n",
      "parent_category_name_en     0.0048      0.000     33.367      0.000       0.005       0.005\n",
      "category_name_en            0.0002    2.3e-05      6.998      0.000       0.000       0.000\n",
      "weekday                     0.0345      0.012      2.923      0.003       0.011       0.058\n",
      "month                      -0.7105      0.252     -2.821      0.005      -1.204      -0.217\n",
      "day                        -0.0338      0.012     -2.864      0.004      -0.057      -0.011\n",
      "week                        0.2357      0.083      2.852      0.004       0.074       0.398\n",
      "description_len            -0.0006   4.14e-05    -14.806      0.000      -0.001      -0.001\n",
      "title_len                  -0.0032      0.000    -12.798      0.000      -0.004      -0.003\n",
      "description_char         6.215e-05    5.8e-06     10.720      0.000    5.08e-05    7.35e-05\n",
      "title_char                  0.0002   4.18e-05      5.158      0.000       0.000       0.000\n",
      "price_log                  -0.0004   9.54e-06    -45.890      0.000      -0.000      -0.000\n",
      "==============================================================================\n",
      "Omnibus:                   386185.077   Durbin-Watson:                   2.001\n",
      "Prob(Omnibus):                  0.000   Jarque-Bera (JB):           931761.091\n",
      "Skew:                           1.853   Prob(JB):                         0.00\n",
      "Kurtosis:                       5.205   Cond. No.                     6.42e+06\n",
      "==============================================================================\n",
      "\n",
      "Warnings:\n",
      "[1] Standard Errors assume that the covariance matrix of the errors is correctly specified.\n",
      "[2] The condition number is large, 6.42e+06. This might indicate that there are\n",
      "strong multicollinearity or other numerical problems.\n"
     ]
    }
   ],
   "source": [
    "X_sm = sm.add_constant(X_train_model)\n",
    "lm_sm = sm.OLS(y_train_model, X_train_model)\n",
    "res = lm_sm.fit()\n",
    "print(res.summary())"
   ]
  },
  {
   "cell_type": "code",
   "execution_count": 55,
   "metadata": {},
   "outputs": [
    {
     "ename": "ModuleNotFoundError",
     "evalue": "No module named 'lightgbm'",
     "output_type": "error",
     "traceback": [
      "\u001b[0;31m---------------------------------------------------------------------------\u001b[0m",
      "\u001b[0;31mModuleNotFoundError\u001b[0m                       Traceback (most recent call last)",
      "\u001b[0;32m<ipython-input-55-5dacb4a27011>\u001b[0m in \u001b[0;36m<module>\u001b[0;34m()\u001b[0m\n\u001b[0;32m----> 1\u001b[0;31m \u001b[0;32mimport\u001b[0m \u001b[0mlightgbm\u001b[0m \u001b[0;32mas\u001b[0m \u001b[0mlgb\u001b[0m\u001b[0;34m\u001b[0m\u001b[0m\n\u001b[0m",
      "\u001b[0;31mModuleNotFoundError\u001b[0m: No module named 'lightgbm'"
     ]
    }
   ],
   "source": [
    "import lightgbm as lgb"
   ]
  }
 ],
 "metadata": {
  "kernelspec": {
   "display_name": "Python [conda env:kaggle]",
   "language": "python",
   "name": "conda-env-kaggle-py"
  },
  "language_info": {
   "codemirror_mode": {
    "name": "ipython",
    "version": 3
   },
   "file_extension": ".py",
   "mimetype": "text/x-python",
   "name": "python",
   "nbconvert_exporter": "python",
   "pygments_lexer": "ipython3",
   "version": "3.6.3"
  }
 },
 "nbformat": 4,
 "nbformat_minor": 2
}
